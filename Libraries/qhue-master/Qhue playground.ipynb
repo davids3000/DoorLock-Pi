{
 "cells": [
  {
   "cell_type": "markdown",
   "metadata": {},
   "source": [
    "# Qhue experiments\n",
    "\n",
    "Experiments with the [Qhue](https://github.com/quentinsf/qhue) python module.\n",
    "\n",
    "If you haven't already, then `pip install qhue` before starting.  \n",
    "\n",
    "Some of these examples may assume you have a recent bridge with recent software.\n",
    "\n",
    "*If you're viewing this with my sample output, I've truncated some of it for readability. I have a lot of lights!*"
   ]
  },
  {
   "cell_type": "markdown",
   "metadata": {},
   "source": [
    "## Basics "
   ]
  },
  {
   "cell_type": "code",
   "execution_count": 49,
   "metadata": {},
   "outputs": [],
   "source": [
    "# Put in the IP address of your Hue bridge here\n",
    "BRIDGE_IP='192.168.0.45'\n",
    "\n",
    "from qhue import Bridge, QhueException, create_new_username\n"
   ]
  },
  {
   "cell_type": "code",
   "execution_count": 54,
   "metadata": {},
   "outputs": [],
   "source": [
    "# If you have a username set up on your bridge, enter it here\n",
    "# otherwise leave it as None and you'll be prompted to create one.\n",
    "# e.g.:\n",
    "# username='zeZomfNu-y-p1PLM9oeYTiXbtqsxn-q1-7RNLI4B'\n",
    "username=None\n",
    "\n",
    "if username is None:\n",
    "    username = create_new_username(BRIDGE_IP)\n",
    "    print(\"New user: {} . Put this in the username variable above.\".format(username))"
   ]
  },
  {
   "cell_type": "markdown",
   "metadata": {},
   "source": [
    "Let's get the numbers and names of the lights:"
   ]
  },
  {
   "cell_type": "code",
   "execution_count": 55,
   "metadata": {},
   "outputs": [
    {
     "name": "stdout",
     "output_type": "stream",
     "text": [
      "Kitchen Sink     3\n",
      "Landing          4\n",
      "Top Landing      5\n",
      "Kitchen Stove    6\n",
      "Front hall 1     7\n",
      "Front hall 2     8\n",
      "...\n"
     ]
    }
   ],
   "source": [
    "bridge = Bridge(BRIDGE_IP, username)\n",
    "lights = bridge.lights()\n",
    "for num, info in lights.items():\n",
    "    print(\"{:16} {}\".format(info['name'], num))"
   ]
  },
  {
   "cell_type": "markdown",
   "metadata": {},
   "source": [
    "Let's try interactively changing a light.  You could make this a lot more sophisticated:"
   ]
  },
  {
   "cell_type": "code",
   "execution_count": 56,
   "metadata": {},
   "outputs": [
    {
     "data": {
      "application/vnd.jupyter.widget-view+json": {
       "model_id": "dbe794dd9d1f4509984b3f0c65a78719"
      }
     },
     "metadata": {},
     "output_type": "display_data"
    }
   ],
   "source": [
    "from ipywidgets import interact, interactive, fixed\n",
    "import ipywidgets as widgets\n",
    "\n",
    "def setlight(lightid='14', on=True, ct=128, bri=128):\n",
    "    bridge.lights[lightid].state(on=on)\n",
    "    if on:\n",
    "        bridge.lights[lightid].state(bri=bri, ct=ct)\n",
    "\n",
    "light_list = interact(setlight,\n",
    "                      lightid = widgets.Dropdown(\n",
    "                            options={ lights[i]['name']:i for i in lights },\n",
    "                            value='14',\n",
    "                            description='Light:',\n",
    "                        ),\n",
    "                      on = widgets.Checkbox(value=True, description='On/off'),\n",
    "                      bri = widgets.IntSlider(min=0,max=255,value=128, description='Bright:'),\n",
    "                      ct = widgets.IntSlider(min=0,max=255,value=128, description='Colour:'))"
   ]
  },
  {
   "cell_type": "markdown",
   "metadata": {},
   "source": [
    "The [YAML format](https://en.wikipedia.org/wiki/YAML) is a nice way to view the sometimes large amount of structured information which comes back from the bridge. \n",
    "\n",
    "If you haven't got the Python yaml module, `pip install PyYAML`."
   ]
  },
  {
   "cell_type": "code",
   "execution_count": 57,
   "metadata": {},
   "outputs": [
    {
     "name": "stdout",
     "output_type": "stream",
     "text": [
      "20 lights:\n",
      "\n",
      "'11':\n",
      "    manufacturername: Philips\n",
      "    modelid: LCT007\n",
      "    name: Kitchen table\n",
      "    state:\n",
      "        alert: none\n",
      "        bri: 169\n",
      "        colormode: xy\n",
      "        ct: 410\n",
      "        effect: none\n",
      "        hue: 14164\n",
      "        'on': false\n",
      "        reachable: true\n",
      "        sat: 178\n",
      "        xy: [0.4837, 0.4144]\n",
      "    swupdate: {lastinstall: null, state: noupdates}\n",
      "    swversion: 5.50.1.19085\n",
      "    type: Extended color light\n",
      "    uniqueid: 00:17:88:01:00:f7:e8:58-0b\n",
      "'12':\n",
      "    manufacturername: Philips\n",
      "    modelid: LCT007\n",
      "    name: Kitchen centre\n",
      "    state:\n",
      "        alert: none\n",
      "        bri: 240\n",
      "        colormode: xy\n",
      "        ct: 382\n",
      "        effect: none\n",
      "        hue: 14665\n",
      "        'on': false\n",
      "        reachable: true\n",
      "        sat: 156\n",
      "        xy: [0.4677, 0.4121]\n",
      "    swupdate: {lastinstall: null, state: noupdates}\n",
      "    swversion: 5.50.1.19085\n",
      "    type: Extended color light\n",
      "    uniqueid: 00:17:88:01:00:f6:e4:98-0b\n",
      "...\n",
      "\n"
     ]
    }
   ],
   "source": [
    "import yaml\n",
    "print(\"{} lights:\\n\".format(len(lights)))\n",
    "print(yaml.safe_dump(lights, indent=4))"
   ]
  },
  {
   "cell_type": "code",
   "execution_count": 58,
   "metadata": {},
   "outputs": [
    {
     "name": "stdout",
     "output_type": "stream",
     "text": [
      "manufacturername: Philips\n",
      "modelid: LCT001\n",
      "name: Kitchen Sink\n",
      "state:\n",
      "    alert: none\n",
      "    bri: 240\n",
      "    colormode: xy\n",
      "    ct: 343\n",
      "    effect: none\n",
      "    hue: 15360\n",
      "    'on': false\n",
      "    reachable: true\n",
      "    sat: 119\n",
      "    xy: [0.4436, 0.4062]\n",
      "swupdate: {lastinstall: null, state: noupdates}\n",
      "swversion: 5.23.1.13452\n",
      "type: Extended color light\n",
      "uniqueid: 00:17:88:01:00:d3:13:6c-0b\n",
      "\n"
     ]
    }
   ],
   "source": [
    "print(yaml.safe_dump(bridge.lights['3'](), indent=4))"
   ]
  },
  {
   "cell_type": "markdown",
   "metadata": {},
   "source": [
    "## Scenes "
   ]
  },
  {
   "cell_type": "markdown",
   "metadata": {},
   "source": [
    "Let's look at the scenes defined in the bridge, and their IDs.  Some of these may be created manually, and others by the Hue app or other software.\n",
    "\n",
    "Version 1-type scenes just refer to the lights - each light is told: \"Set the value you have stored for this scene\".\n",
    "\n",
    "Version 2 scenes have more details stored in the hub, which is generally more useful."
   ]
  },
  {
   "cell_type": "code",
   "execution_count": 59,
   "metadata": {},
   "outputs": [
    {
     "name": "stdout",
     "output_type": "stream",
     "text": [
      "141 scenes:\n",
      "\n",
      "19JUE2wqOsdtine:\n",
      "    appdata: {data: TOScI_r04_d99, version: 1}\n",
      "    lastupdated: '2017-02-25T20:07:42'\n",
      "    lights: ['3', '6', '11', '12', '15', '16', '17', '18', '27', '34']\n",
      "    locked: false\n",
      "    name: Dining 3\n",
      "    owner: IneFZ4CIEdSQQN4oCGExhsi0cWquxMrZY6tEElKM\n",
      "    picture: ''\n",
      "    recycle: false\n",
      "    version: 2\n",
      "342dc4014-on-0:\n",
      "    appdata: {}\n",
      "    lastupdated: null\n",
      "    lights: ['4', '5']\n",
      "    locked: false\n",
      "    name: Landing low glow\n",
      "    owner: none\n",
      "    picture: ''\n",
      "    recycle: true\n",
      "    version: 1\n",
      "351acdcd6-on-0:\n",
      "    appdata: {}\n",
      "    lastupdated: null\n",
      "    lights: ['7', '8']\n",
      "    locked: true\n",
      "    name: Hall low glow on\n",
      "    owner: none\n",
      "    picture: ''\n",
      "    recycle: true\n",
      "    version: 1\n",
      "SUThT3XiV7sSzml:\n",
      "    appdata: {data: VKza7_r06_d99, version: 1}\n",
      "    lastupdated: '2017-02-01T07:54:30'\n",
      "    lights: ['14', '21', '32', '33']\n",
      "    locked: true\n",
      "    name: Warm\n",
      "    owner: IneFZ4CIEdSQQN4oCGExhsi0cWquxMrZY6tEElKM\n",
      "    picture: ''\n",
      "    recycle: false\n",
      "    version: 2\n",
      "...\n",
      "\n"
     ]
    }
   ],
   "source": [
    "scenes = bridge.scenes()\n",
    "print(\"{} scenes:\\n\".format(len(scenes)))\n",
    "print(yaml.safe_dump(scenes, indent=4))"
   ]
  },
  {
   "cell_type": "markdown",
   "metadata": {},
   "source": [
    "Details of a particular scene from the list:"
   ]
  },
  {
   "cell_type": "code",
   "execution_count": 60,
   "metadata": {},
   "outputs": [
    {
     "name": "stdout",
     "output_type": "stream",
     "text": [
      "appdata: {data: skbwq_r06_d06, version: 1}\n",
      "lastupdated: '2017-02-01T07:54:30'\n",
      "lights: ['14', '21', '32', '33']\n",
      "lightstates:\n",
      "  '14': {bri: 77, ct: 366, 'on': true}\n",
      "  '21': {bri: 77, ct: 366, 'on': true}\n",
      "  '32': {bri: 77, ct: 367, 'on': true}\n",
      "  '33': {bri: 77, ct: 367, 'on': true}\n",
      "locked: false\n",
      "name: Dimmed\n",
      "owner: IneFZ4CIEdSQQN4oCGExhsi0cWquxMrZY6tEElKM\n",
      "picture: ''\n",
      "recycle: false\n",
      "version: 2\n",
      "\n"
     ]
    }
   ],
   "source": [
    "print(yaml.safe_dump(bridge.scenes['wVXtOrFmdnySqUz']()))"
   ]
  },
  {
   "cell_type": "markdown",
   "metadata": {},
   "source": [
    "Let's list scenes with IDs, last updated time, and the lights affected:"
   ]
  },
  {
   "cell_type": "code",
   "execution_count": 61,
   "metadata": {},
   "outputs": [
    {
     "name": "stdout",
     "output_type": "stream",
     "text": [
      "\n",
      "SePln7Lt9-H7Hm7  Bright               2017-02-01T09:52:06\n",
      "                                        - Sitting room 2\n",
      "                                        - Sitting room 1\n",
      "                                        - Mantelpiece R\n",
      "                                        - Mantelpiece L\n",
      "\n",
      "7264de849-on-0   Hall low glow on     None\n",
      "                                        - Front hall 1\n",
      "                                        - Front hall 2\n",
      "\n",
      "77470a3f5-off-0  2 lights off         None\n",
      "                                        - Front hall 1\n",
      "                                        - Front hall 2\n",
      "\n",
      " ...\n",
      "\n"
     ]
    }
   ],
   "source": [
    "for sid, info in scenes.items():\n",
    "    print(\"\\n{:16} {:20} {}\".format( sid, info['name'], info['lastupdated']))\n",
    "    for li in info['lights']:\n",
    "        print(\"{:40}- {}\".format('', lights[li]['name']))"
   ]
  },
  {
   "cell_type": "markdown",
   "metadata": {},
   "source": [
    "Tidying things up; let's delete a scene:"
   ]
  },
  {
   "cell_type": "code",
   "execution_count": 62,
   "metadata": {},
   "outputs": [],
   "source": [
    "# Uncomment and edit this if you actually want to run it!\n",
    "# print(bridge.scenes['cd06c70f7-on-0'](http_method='delete'))"
   ]
  },
  {
   "cell_type": "markdown",
   "metadata": {},
   "source": [
    "Show the details of the scenes that affect a particular light:"
   ]
  },
  {
   "cell_type": "code",
   "execution_count": 63,
   "metadata": {},
   "outputs": [
    {
     "name": "stdout",
     "output_type": "stream",
     "text": [
      "Light 21 - Sitting room 1\n",
      "SePln7Lt9-H7Hm7 : Bright               2017-02-01T09:52:06\n",
      "VaknVPkUZnSrdiB : Bright               2017-02-01T07:54:30\n",
      "3owQUn01W7nVsxR : Evening              2017-02-01T07:54:29\n",
      "GYOWpf6lHjaVc3T : Off                  2016-09-13T21:11:19\n",
      "wG25IXpcHHTim4g : Off                  2017-02-01T07:54:30\n",
      "SUThT3XiV7sSzml : Warm                 2017-02-01T07:54:30\n",
      "KZNM2DZmdcydRIc : All warm             2016-08-06T23:50:55\n",
      "IB57U3scrj4cQWk : Read                 2017-02-01T07:54:29\n",
      "wVXtOrFmdnySqUz : Dimmed               2017-02-01T07:54:30\n",
      "YDfVlYFWoaL6yv5 : Nightlight           2017-02-01T07:54:29\n"
     ]
    }
   ],
   "source": [
    "lightname = 'Sitting room 1'\n",
    "# How's this for a nice use of python iterators?\n",
    "light_id = next(i for i,info in lights.items() if info['name'] == lightname)\n",
    "print(\"Light {} - {}\".format(light_id, lightname))\n",
    "for line in [\"{} : {:20} {}\".format(sid, info['name'], info['lastupdated']) for sid, info in scenes.items() if light_id in info['lights']]:\n",
    "    print(line)"
   ]
  },
  {
   "cell_type": "markdown",
   "metadata": {},
   "source": [
    "## Groups and rooms"
   ]
  },
  {
   "cell_type": "markdown",
   "metadata": {},
   "source": [
    "Let's look at groups:"
   ]
  },
  {
   "cell_type": "code",
   "execution_count": 64,
   "metadata": {},
   "outputs": [
    {
     "name": "stdout",
     "output_type": "stream",
     "text": [
      "'1':\n",
      "    action:\n",
      "        alert: none\n",
      "        bri: 240\n",
      "        colormode: xy\n",
      "        ct: 343\n",
      "        effect: none\n",
      "        hue: 15360\n",
      "        'on': false\n",
      "        sat: 119\n",
      "        xy: [0.4436, 0.4062]\n",
      "    lights: ['3', '6']\n",
      "    name: Kitchen\n",
      "    recycle: false\n",
      "    state: {all_on: false, any_on: false}\n",
      "    type: LightGroup\n",
      "'2':\n",
      "    action:\n",
      "        alert: none\n",
      "        bri: 126\n",
      "        colormode: xy\n",
      "        ct: 267\n",
      "        effect: none\n",
      "        hue: 16528\n",
      "        'on': false\n",
      "        sat: 29\n",
      "        xy: [0.3944, 0.385]\n",
      "    lights: ['7', '8']\n",
      "    name: Hall\n",
      "    recycle: false\n",
      "    state: {all_on: false, any_on: false}\n",
      "    type: LightGroup\n",
      "'3':\n",
      "    action:\n",
      "        alert: none\n",
      "        bri: 240\n",
      "        colormode: xy\n",
      "        ct: 343\n",
      "        effect: none\n",
      "        hue: 15360\n",
      "        'on': false\n",
      "        sat: 119\n",
      "        xy: [0.4436, 0.4062]\n",
      "    lights: ['12', '11', '6', '3']\n",
      "    name: Dimmer 11\n",
      "    recycle: false\n",
      "    state: {all_on: false, any_on: false}\n",
      "    type: LightGroup\n",
      "...\n",
      "\n"
     ]
    }
   ],
   "source": [
    "print(yaml.safe_dump(bridge.groups(), indent=4))"
   ]
  },
  {
   "cell_type": "markdown",
   "metadata": {},
   "source": [
    "The current Hue software creates 'rooms', which are groups with a type value set to Room:"
   ]
  },
  {
   "cell_type": "code",
   "execution_count": 65,
   "metadata": {},
   "outputs": [
    {
     "name": "stdout",
     "output_type": "stream",
     "text": [
      "4   : Kitchen\n",
      "5   : Garden\n",
      "6   : Sitting room\n",
      "7   : Hall\n",
      "8   : Landing\n",
      "9   : Bedroom\n"
     ]
    }
   ],
   "source": [
    "groups = bridge.groups()\n",
    "rooms = [(gid, info['name']) for gid, info in groups.items() if info.get('type') == 'Room' ]\n",
    "for room_id, info in rooms:\n",
    "    print(\"{:3} : {}\".format(room_id, info))"
   ]
  },
  {
   "cell_type": "markdown",
   "metadata": {},
   "source": [
    "## Sensors"
   ]
  },
  {
   "cell_type": "markdown",
   "metadata": {},
   "source": [
    "Sensors are mostly switches, but a few other things come under the same category in the bridge.  There's a 'daylight' sensor, implemented in software, for example, and various bits of state can also be stored here so they can be used in rule conditions later."
   ]
  },
  {
   "cell_type": "code",
   "execution_count": 66,
   "metadata": {},
   "outputs": [
    {
     "name": "stdout",
     "output_type": "stream",
     "text": [
      "Bedroom tap                      7 ZGPSwitch\n",
      "Daylight                         1 Daylight\n",
      "Dimmer Switch 11 SceneCycle     14 CLIPGenericStatus\n",
      "Dimmer Switch 12 SceneCycle     13 CLIPGenericStatus\n",
      "Dining Room                      9 ZGPSwitch\n",
      "Hall                             8 ZGPSwitch\n",
      "Hall dimmer                     12 ZLLSwitch\n",
      "Hall sensor                     24 ZLLPresence\n",
      "Hue ambient light sensor 1      17 ZLLLightLevel\n",
      "Hue ambient light sensor 2      21 ZLLLightLevel\n",
      "Hue ambient light sensor 3      25 ZLLLightLevel\n",
      "Hue ambient light sensor 4      29 ZLLLightLevel\n",
      "Hue temperature sensor 1        15 ZLLTemperature\n",
      "Hue temperature sensor 2        19 ZLLTemperature\n",
      "Hue temperature sensor 3        23 ZLLTemperature\n",
      "Hue temperature sensor 4        27 ZLLTemperature\n",
      "Kitchen dimmer                  11 ZLLSwitch\n",
      "Kitchen tap                      2 ZGPSwitch\n",
      "Landing sensor                  16 ZLLPresence\n",
      "Landing tap                      3 ZGPSwitch\n",
      "Laundry sensor                  28 ZLLPresence\n",
      "Laundry tap                      4 ZGPSwitch\n",
      "MotionSensor 16.Companion       35 CLIPGenericStatus\n",
      "MotionSensor 20.Companion       22 CLIPGenericStatus\n",
      "MotionSensor 24.Companion       26 CLIPGenericStatus\n",
      "MotionSensor 28.Companion       36 CLIPGenericStatus\n",
      "Sitting room                    10 ZGPSwitch\n",
      "Top Landing sensor              20 ZLLPresence\n",
      "Top Tap                          6 ZGPSwitch\n",
      "XFDani[4][1]sn:step             32 CLIPGenericStatus\n",
      "XFDani[4]sn:state               31 CLIPGenericStatus\n"
     ]
    }
   ],
   "source": [
    "sensors = bridge.sensors()\n",
    "summary = [(info['name'], i, info['type']) for i,info in sensors.items()]\n",
    "# Sort by name\n",
    "# Python 2: summary.sort(lambda a,b: cmp(a[0], b[0]))\n",
    "# Python 3:\n",
    "summary.sort(key = lambda a: a[0])\n",
    "for n,i,t in summary:\n",
    "    print(\"{:30} {:>3} {}\".format(n,i,t))\n",
    "    #print(bridge.sensors[i]())\n",
    "    "
   ]
  },
  {
   "cell_type": "markdown",
   "metadata": {},
   "source": [
    "Here's a more complete list:"
   ]
  },
  {
   "cell_type": "code",
   "execution_count": 67,
   "metadata": {},
   "outputs": [
    {
     "name": "stdout",
     "output_type": "stream",
     "text": [
      "'1':\n",
      "    config: {configured: false, 'on': true, sunriseoffset: 30, sunsetoffset: -30}\n",
      "    manufacturername: Philips\n",
      "    modelid: PHDL00\n",
      "    name: Daylight\n",
      "    state: {daylight: null, lastupdated: none}\n",
      "    swversion: '1.0'\n",
      "    type: Daylight\n",
      "'10':\n",
      "    config: {'on': true}\n",
      "    manufacturername: Philips\n",
      "    modelid: ZGPSWITCH\n",
      "    name: Sitting room\n",
      "    state: {buttonevent: 34, lastupdated: '2017-07-04T22:03:46'}\n",
      "    swupdate: {lastinstall: null, state: notupdatable}\n",
      "    type: ZGPSwitch\n",
      "    uniqueid: 00:00:00:00:00:41:1f:34-f2\n",
      "'11':\n",
      "    config:\n",
      "        battery: 84\n",
      "        'on': true\n",
      "        pending: []\n",
      "        reachable: true\n",
      "    manufacturername: Philips\n",
      "    modelid: RWL021\n",
      "    name: Kitchen dimmer\n",
      "    state: {buttonevent: 4002, lastupdated: '2017-07-04T09:42:08'}\n",
      "    swupdate: {lastinstall: null, state: noupdates}\n",
      "    swversion: 5.45.1.17846\n",
      "    type: ZLLSwitch\n",
      "    uniqueid: 00:17:88:01:10:33:28:66-02-fc00\n",
      "...\n",
      "\n"
     ]
    }
   ],
   "source": [
    "print(yaml.safe_dump(bridge.sensors(), indent=4))"
   ]
  },
  {
   "cell_type": "markdown",
   "metadata": {},
   "source": [
    "## Rules\n",
    "\n",
    "Rules map sensor events etc. to actions.\n"
   ]
  },
  {
   "cell_type": "code",
   "execution_count": 68,
   "metadata": {},
   "outputs": [
    {
     "name": "stdout",
     "output_type": "stream",
     "text": [
      "'1':\n",
      "    actions:\n",
      "    -   address: /groups/4/action\n",
      "        body: {scene: HfANai28yTRy07O}\n",
      "        method: PUT\n",
      "    conditions:\n",
      "    - {address: /sensors/2/state/lastupdated, operator: dx}\n",
      "    - {address: /sensors/2/state/buttonevent, operator: eq, value: '18'}\n",
      "    created: '2016-09-23T09:10:49'\n",
      "    lasttriggered: '2017-07-04T20:50:01'\n",
      "    name: Tap 2.4\n",
      "    owner: IneFZ4CIEdSQQN4oCGExhsi0cWquxMrZY6tEElKM\n",
      "    recycle: false\n",
      "    status: enabled\n",
      "    timestriggered: 3\n",
      "'10':\n",
      "    actions:\n",
      "    -   address: /groups/8/action\n",
      "        body: {scene: zvuMOXo8vmShFZK}\n",
      "        method: PUT\n",
      "    conditions:\n",
      "    - {address: /sensors/4/state/lastupdated, operator: dx}\n",
      "    - {address: /sensors/4/state/buttonevent, operator: eq, value: '18'}\n",
      "    created: '2016-07-23T11:48:50'\n",
      "    lasttriggered: none\n",
      "    name: Tap 4.4\n",
      "    owner: IneFZ4CIEdSQQN4oCGExhsi0cWquxMrZY6tEElKM\n",
      "    recycle: false\n",
      "    status: enabled\n",
      "    timestriggered: 0\n",
      "...\n",
      "\n"
     ]
    }
   ],
   "source": [
    "rules = bridge.rules()\n",
    "print(yaml.safe_dump(rules, indent=4))\n"
   ]
  },
  {
   "cell_type": "markdown",
   "metadata": {},
   "source": [
    "Show the rules triggered by the Sitting Room switch.\n",
    "\n",
    "For Tap switches, buttons 1,2,3,4 are represented by the values 34,16,17,18 respectively."
   ]
  },
  {
   "cell_type": "code",
   "execution_count": 69,
   "metadata": {},
   "outputs": [
    {
     "name": "stdout",
     "output_type": "stream",
     "text": [
      "Switch 10 -- Sitting room\n",
      "\n",
      "29  Tap 10.3            \n",
      "   ? condition {'address': '/sensors/10/state/lastupdated', 'operator': 'dx'}\n",
      "   ? condition {'address': '/sensors/10/state/buttonevent', 'operator': 'eq', 'value': '17'}\n",
      "   - action address /groups/6/action body {'scene': 'SUThT3XiV7sSzml'}  Warm \n",
      "30  Tap 10.2            \n",
      "   ? condition {'address': '/sensors/10/state/lastupdated', 'operator': 'dx'}\n",
      "   ? condition {'address': '/sensors/10/state/buttonevent', 'operator': 'eq', 'value': '16'}\n",
      "   - action address /groups/6/action body {'scene': 'SePln7Lt9-H7Hm7'}  Bright \n",
      "31  Tap 10.4            \n",
      "   ? condition {'address': '/sensors/10/state/lastupdated', 'operator': 'dx'}\n",
      "   ? condition {'address': '/sensors/10/state/buttonevent', 'operator': 'eq', 'value': '18'}\n",
      "   - action address /groups/6/action body {'scene': '3owQUn01W7nVsxR'}  Evening \n",
      "32  2:huelabs/tap-toggle\n",
      "   ? condition {'address': '/sensors/10/state/buttonevent', 'operator': 'eq', 'value': '34'}\n",
      "   ? condition {'address': '/sensors/10/state/lastupdated', 'operator': 'dx'}\n",
      "   ? condition {'address': '/groups/6/state/any_on', 'operator': 'eq', 'value': 'false'}\n",
      "   - action address /groups/6/action body {'on': True}                   \n",
      "98  2:huelabs/tap-toggle\n",
      "   ? condition {'address': '/sensors/10/state/buttonevent', 'operator': 'eq', 'value': '34'}\n",
      "   ? condition {'address': '/sensors/10/state/lastupdated', 'operator': 'dx'}\n",
      "   ? condition {'address': '/groups/6/state/any_on', 'operator': 'eq', 'value': 'true'}\n",
      "   - action address /groups/6/action body {'on': False}                  \n"
     ]
    }
   ],
   "source": [
    "switch = '10'  # sitting room\n",
    "print(\"Switch {} -- {}\\n\".format(switch, sensors[switch]['name']))\n",
    "\n",
    "# State changes on the switch will look like this:\n",
    "state_string = \"/sensors/{}/state/\".format(switch)\n",
    "\n",
    "# Look through the rules for once which contain this \n",
    "# string in their conditions:\n",
    "for rid, info in rules.items():\n",
    "    this_switch = False\n",
    "    matching_conditions = [c for c in info['conditions'] if state_string in c['address']]\n",
    "    if len(matching_conditions) > 0:\n",
    "        print(\"{:3} {:20}\".format(rid, info['name']))\n",
    "        for c in info['conditions']:\n",
    "            print(\"   ? condition {}\".format(c))\n",
    "        for a in info['actions']:\n",
    "\n",
    "            # If the action involves applying a scene, get its name\n",
    "            scene_name = \"\"\n",
    "            if 'scene' in a['body']:\n",
    "                scene_name = scenes[a['body']['scene']]['name']\n",
    "            \n",
    "            print(\"   - action address {} body {!s:29s} {} \".format( a['address'], a['body'], scene_name))\n",
    "            "
   ]
  },
  {
   "cell_type": "markdown",
   "metadata": {},
   "source": [
    "Let's see what is actually done by one of these scenes:"
   ]
  },
  {
   "cell_type": "code",
   "execution_count": 70,
   "metadata": {},
   "outputs": [
    {
     "name": "stdout",
     "output_type": "stream",
     "text": [
      "appdata: {data: mdVDQ_r06_d99, version: 1}\n",
      "lastupdated: '2017-02-01T07:54:29'\n",
      "lights: ['14', '21', '32', '33']\n",
      "lightstates:\n",
      "    '14':\n",
      "        bri: 189\n",
      "        'on': true\n",
      "        xy: [0.5102, 0.3642]\n",
      "    '21': {bri: 189, 'on': true}\n",
      "    '32': {bri: 189, 'on': true}\n",
      "    '33': {bri: 189, 'on': true}\n",
      "locked: true\n",
      "name: Evening\n",
      "owner: IneFZ4CIEdSQQN4oCGExhsi0cWquxMrZY6tEElKM\n",
      "picture: ''\n",
      "recycle: false\n",
      "version: 2\n",
      "\n"
     ]
    }
   ],
   "source": [
    "scene='3owQUn01W7nVsxR' # 'Evening' scene button 10.4\n",
    "\n",
    "s = bridge.scenes[scene]()\n",
    "print(yaml.safe_dump(s, indent=4))"
   ]
  },
  {
   "cell_type": "code",
   "execution_count": null,
   "metadata": {
    "collapsed": true
   },
   "outputs": [],
   "source": []
  }
 ],
 "metadata": {
  "kernelspec": {
   "display_name": "Python 3",
   "language": "python",
   "name": "python3"
  },
  "language_info": {
   "codemirror_mode": {
    "name": "ipython",
    "version": 3
   },
   "file_extension": ".py",
   "mimetype": "text/x-python",
   "name": "python",
   "nbconvert_exporter": "python",
   "pygments_lexer": "ipython3",
   "version": "3.6.1"
  },
  "widgets": {
   "state": {
    "f74b2b4846a447e5af1d44678ee8b297": {
     "views": [
      {
       "cell_index": 7
      }
     ]
    }
   },
   "version": "1.2.0"
  }
 },
 "nbformat": 4,
 "nbformat_minor": 1
}
